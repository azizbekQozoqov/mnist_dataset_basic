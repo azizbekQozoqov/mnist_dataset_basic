{
  "nbformat": 4,
  "nbformat_minor": 0,
  "metadata": {
    "colab": {
      "provenance": [],
      "collapsed_sections": [],
      "include_colab_link": true
    },
    "kernelspec": {
      "name": "python3",
      "display_name": "Python 3"
    },
    "language_info": {
      "name": "python"
    }
  },
  "cells": [
    {
      "cell_type": "markdown",
      "metadata": {
        "id": "view-in-github",
        "colab_type": "text"
      },
      "source": [
        "<a href=\"https://colab.research.google.com/github/azizbekQozoqov/mnist_dataset_basic/blob/main/Copy_of_MNIST_dataset_project_NumPy(Practices).ipynb\" target=\"_parent\"><img src=\"https://colab.research.google.com/assets/colab-badge.svg\" alt=\"Open In Colab\"/></a>"
      ]
    },
    {
      "cell_type": "markdown",
      "metadata": {
        "id": "rW9o0WS8Whxk"
      },
      "source": [
        "### Project"
      ]
    },
    {
      "cell_type": "code",
      "metadata": {
        "colab": {
          "base_uri": "https://localhost:8080/"
        },
        "id": "MM0G_CBpU7p6",
        "outputId": "8d918c9f-49e7-4846-8537-b7dce195ab76"
      },
      "source": [
        "!wget https://pjreddie.com/media/files/mnist_test.csv"
      ],
      "execution_count": null,
      "outputs": [
        {
          "output_type": "stream",
          "name": "stdout",
          "text": [
            "--2022-09-19 05:58:56--  https://pjreddie.com/media/files/mnist_test.csv\n",
            "Resolving pjreddie.com (pjreddie.com)... 128.208.4.108\n",
            "Connecting to pjreddie.com (pjreddie.com)|128.208.4.108|:443... connected.\n",
            "HTTP request sent, awaiting response... 200 OK\n",
            "Length: 18289443 (17M) [application/octet-stream]\n",
            "Saving to: ‘mnist_test.csv’\n",
            "\n",
            "mnist_test.csv      100%[===================>]  17.44M  24.0MB/s    in 0.7s    \n",
            "\n",
            "2022-09-19 05:58:57 (24.0 MB/s) - ‘mnist_test.csv’ saved [18289443/18289443]\n",
            "\n"
          ]
        }
      ]
    },
    {
      "cell_type": "markdown",
      "metadata": {
        "id": "5hqtIDJ6XIJ_"
      },
      "source": [
        "### `mnist_test.csv` fayilni yuklab oling.\n",
        "\n",
        "MNIST - **Modified National Institute of Standards and Technology** ma'lumotlar bazasining qisqartmasi. MNIST 0 dan 9 gacha bo'lgan qo'lda yozilgan raqamlarning **70 000** ta, **28 x 28** o'lchamdagi rasmlari to'plamini o'z ichiga oladi.\n",
        "\n",
        "Bu datasetda esa test uchun **10 000** ta rasm mavjud.\n",
        "\n",
        "Numpy **loadtxt()** funktsiyasi yordamida ma'lumotlarni tahrirlang."
      ]
    },
    {
      "cell_type": "code",
      "metadata": {
        "id": "4CyHUrUPXYXT"
      },
      "source": [
        "import numpy as np\n",
        "import matplotlib.pyplot as plt"
      ],
      "execution_count": null,
      "outputs": []
    },
    {
      "cell_type": "code",
      "metadata": {
        "id": "M6-eW8PWXjLX"
      },
      "source": [
        "filename = 'mnist_test.csv'"
      ],
      "execution_count": null,
      "outputs": []
    },
    {
      "cell_type": "code",
      "metadata": {
        "id": "VCvkITICVBs9"
      },
      "source": [
        "def get_data(filename):\n",
        "  '''\n",
        "  Edit the data using the numpy loadtxt() function.\n",
        "  \n",
        "  Parametrs:\n",
        "    str: filename\n",
        "  returns:\n",
        "    Numpy array: array\n",
        "  '''\n",
        "  # WRITE YOUR CODE HERE\n",
        "  data = np.loadtxt(filename, delimiter=\",\", dtype=str)\n",
        "  return data[:, 0],data[:, 1:].reshape((10000,28,28)).astype(float)"
      ],
      "execution_count": null,
      "outputs": []
    },
    {
      "cell_type": "code",
      "metadata": {
        "id": "jFSLUPoDZTK5"
      },
      "source": [
        "label,data = get_data(filename)"
      ],
      "execution_count": null,
      "outputs": []
    },
    {
      "cell_type": "code",
      "metadata": {
        "id": "nuyYfeQ4ZW3m",
        "colab": {
          "base_uri": "https://localhost:8080/",
          "height": 309
        },
        "outputId": "5dfbed1c-805d-4701-9dc8-431c3db49524"
      },
      "source": [
        "def data_imshow(label,data):\n",
        "  '''\n",
        "  Imshow the dataset\n",
        "\n",
        "  Parameters:\n",
        "    numpy array: numbers and label from the dataset\n",
        "  '''\n",
        "  # WRITE YOUR CODE HERE\n",
        "  fig, axs = plt.subplots(2, 5)\n",
        "  fig.set_size_inches((10,5))\n",
        "  c=0\n",
        "  for row in axs:\n",
        "    for col in row:\n",
        "      col.set_xlabel(f\"label : {label[c]}\")\n",
        "      col.imshow(data[c], cmap=\"gray\")\n",
        "      c+=1\n",
        "\n",
        "data_imshow(label,data)"
      ],
      "execution_count": null,
      "outputs": [
        {
          "output_type": "display_data",
          "data": {
            "text/plain": [
              "<Figure size 720x360 with 10 Axes>"
            ],
            "image/png": "[encoded data removed]"
          },
          "metadata": {
            "needs_background": "light"
          }
        }
      ]
    }
  ]
}